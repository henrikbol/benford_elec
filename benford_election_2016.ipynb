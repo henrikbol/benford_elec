{
 "cells": [
  {
   "cell_type": "code",
   "execution_count": 1,
   "metadata": {},
   "outputs": [],
   "source": [
    "import pandas as pd\n",
    "import math"
   ]
  },
  {
   "cell_type": "code",
   "execution_count": 2,
   "metadata": {},
   "outputs": [],
   "source": [
    "df = pd.read_csv(\"pres.elect16.results.csv\").dropna()\n",
    "\n",
    "df = df[df[\"votes\"]>0]\n",
    "df[\"fist_digit\"] = df[\"votes\"].astype(str).str.slice(start=0, stop=1)"
   ]
  },
  {
   "cell_type": "code",
   "execution_count": 3,
   "metadata": {},
   "outputs": [],
   "source": [
    "ben = pd.concat([df[df[\"lead\"] == \"Hillary Clinton\"][\"fist_digit\"].value_counts(normalize=True).sort_index(),\n",
    "                df[df[\"lead\"] == \"Donald Trump\"][\"fist_digit\"].value_counts(normalize=True).sort_index()], axis=1)\n",
    "\n",
    "ben.columns = [\"Hillary Clinton\", \"Donald Trump\"]\n",
    "\n",
    "ben[\"Benford\"] = [math.log10(1 + 1/n) for n in range(1,10)]\n"
   ]
  },
  {
   "cell_type": "code",
   "execution_count": 4,
   "metadata": {},
   "outputs": [
    {
     "data": {
      "text/html": [
       "<div>\n",
       "<style scoped>\n",
       "    .dataframe tbody tr th:only-of-type {\n",
       "        vertical-align: middle;\n",
       "    }\n",
       "\n",
       "    .dataframe tbody tr th {\n",
       "        vertical-align: top;\n",
       "    }\n",
       "\n",
       "    .dataframe thead th {\n",
       "        text-align: right;\n",
       "    }\n",
       "</style>\n",
       "<table border=\"1\" class=\"dataframe\">\n",
       "  <thead>\n",
       "    <tr style=\"text-align: right;\">\n",
       "      <th></th>\n",
       "      <th>Hillary Clinton</th>\n",
       "      <th>Donald Trump</th>\n",
       "      <th>Benford</th>\n",
       "    </tr>\n",
       "  </thead>\n",
       "  <tbody>\n",
       "    <tr>\n",
       "      <th>1</th>\n",
       "      <td>0.302605</td>\n",
       "      <td>0.306100</td>\n",
       "      <td>0.301030</td>\n",
       "    </tr>\n",
       "    <tr>\n",
       "      <th>2</th>\n",
       "      <td>0.180260</td>\n",
       "      <td>0.173201</td>\n",
       "      <td>0.176091</td>\n",
       "    </tr>\n",
       "    <tr>\n",
       "      <th>3</th>\n",
       "      <td>0.116175</td>\n",
       "      <td>0.128581</td>\n",
       "      <td>0.124939</td>\n",
       "    </tr>\n",
       "    <tr>\n",
       "      <th>4</th>\n",
       "      <td>0.099726</td>\n",
       "      <td>0.099863</td>\n",
       "      <td>0.096910</td>\n",
       "    </tr>\n",
       "    <tr>\n",
       "      <th>5</th>\n",
       "      <td>0.086018</td>\n",
       "      <td>0.078478</td>\n",
       "      <td>0.079181</td>\n",
       "    </tr>\n",
       "    <tr>\n",
       "      <th>6</th>\n",
       "      <td>0.067512</td>\n",
       "      <td>0.065730</td>\n",
       "      <td>0.066947</td>\n",
       "    </tr>\n",
       "    <tr>\n",
       "      <th>7</th>\n",
       "      <td>0.056203</td>\n",
       "      <td>0.056134</td>\n",
       "      <td>0.057992</td>\n",
       "    </tr>\n",
       "    <tr>\n",
       "      <th>8</th>\n",
       "      <td>0.043180</td>\n",
       "      <td>0.050994</td>\n",
       "      <td>0.051153</td>\n",
       "    </tr>\n",
       "    <tr>\n",
       "      <th>9</th>\n",
       "      <td>0.048321</td>\n",
       "      <td>0.040918</td>\n",
       "      <td>0.045757</td>\n",
       "    </tr>\n",
       "  </tbody>\n",
       "</table>\n",
       "</div>"
      ],
      "text/plain": [
       "   Hillary Clinton  Donald Trump   Benford\n",
       "1         0.302605      0.306100  0.301030\n",
       "2         0.180260      0.173201  0.176091\n",
       "3         0.116175      0.128581  0.124939\n",
       "4         0.099726      0.099863  0.096910\n",
       "5         0.086018      0.078478  0.079181\n",
       "6         0.067512      0.065730  0.066947\n",
       "7         0.056203      0.056134  0.057992\n",
       "8         0.043180      0.050994  0.051153\n",
       "9         0.048321      0.040918  0.045757"
      ]
     },
     "execution_count": 4,
     "metadata": {},
     "output_type": "execute_result"
    }
   ],
   "source": [
    "ben"
   ]
  },
  {
   "cell_type": "code",
   "execution_count": 5,
   "metadata": {},
   "outputs": [
    {
     "data": {
      "image/png": "[encoded data removed]",
      "text/plain": [
       "<Figure size 432x288 with 1 Axes>"
      ]
     },
     "metadata": {
      "needs_background": "light"
     },
     "output_type": "display_data"
    }
   ],
   "source": [
    "ben.plot.bar();"
   ]
  },
  {
   "cell_type": "code",
   "execution_count": null,
   "metadata": {},
   "outputs": [],
   "source": []
  }
 ],
 "metadata": {
  "kernelspec": {
   "display_name": "myenv",
   "language": "python",
   "name": "myenv"
  },
  "language_info": {
   "codemirror_mode": {
    "name": "ipython",
    "version": 3
   },
   "file_extension": ".py",
   "mimetype": "text/x-python",
   "name": "python",
   "nbconvert_exporter": "python",
   "pygments_lexer": "ipython3",
   "version": "3.8.6"
  }
 },
 "nbformat": 4,
 "nbformat_minor": 4
}
